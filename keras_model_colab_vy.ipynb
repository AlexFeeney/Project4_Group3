{
  "cells": [
    {
      "cell_type": "code",
      "execution_count": 1,
      "metadata": {
        "colab": {
          "base_uri": "https://localhost:8080/"
        },
        "id": "4AgJtnwK3F3j",
        "outputId": "ac3bbdeb-2dc5-4a70-d75b-22abc37fec19"
      },
      "outputs": [
        {
          "output_type": "stream",
          "name": "stdout",
          "text": [
            "Hit:1 http://archive.ubuntu.com/ubuntu jammy InRelease\n",
            "Get:2 http://archive.ubuntu.com/ubuntu jammy-updates InRelease [119 kB]\n",
            "Get:3 http://archive.ubuntu.com/ubuntu jammy-backports InRelease [109 kB]\n",
            "Get:4 http://security.ubuntu.com/ubuntu jammy-security InRelease [110 kB]\n",
            "Get:5 https://cloud.r-project.org/bin/linux/ubuntu jammy-cran40/ InRelease [3,626 B]\n",
            "Get:6 https://developer.download.nvidia.com/compute/cuda/repos/ubuntu2204/x86_64  InRelease [1,581 B]\n",
            "Hit:7 https://ppa.launchpadcontent.net/c2d4u.team/c2d4u4.0+/ubuntu jammy InRelease\n",
            "Hit:8 https://ppa.launchpadcontent.net/deadsnakes/ppa/ubuntu jammy InRelease\n",
            "Hit:9 https://ppa.launchpadcontent.net/graphics-drivers/ppa/ubuntu jammy InRelease\n",
            "Hit:10 https://ppa.launchpadcontent.net/ubuntugis/ppa/ubuntu jammy InRelease\n",
            "Get:11 http://archive.ubuntu.com/ubuntu jammy-updates/main amd64 Packages [1,848 kB]\n",
            "Get:12 http://archive.ubuntu.com/ubuntu jammy-updates/universe amd64 Packages [1,352 kB]\n",
            "Get:13 http://archive.ubuntu.com/ubuntu jammy-backports/main amd64 Packages [80.9 kB]\n",
            "Get:14 http://archive.ubuntu.com/ubuntu jammy-backports/universe amd64 Packages [33.3 kB]\n",
            "Get:15 https://developer.download.nvidia.com/compute/cuda/repos/ubuntu2204/x86_64  Packages [736 kB]\n",
            "Get:16 http://security.ubuntu.com/ubuntu jammy-security/main amd64 Packages [1,569 kB]\n",
            "Get:17 http://security.ubuntu.com/ubuntu jammy-security/universe amd64 Packages [1,079 kB]\n",
            "Fetched 7,042 kB in 3s (2,568 kB/s)\n",
            "Reading package lists... Done\n",
            "Building dependency tree... Done\n",
            "Reading state information... Done\n",
            "38 packages can be upgraded. Run 'apt list --upgradable' to see them.\n",
            "tar: spark-3.2.1-bin-hadoop3.2.tgz: Cannot open: No such file or directory\n",
            "tar: Error is not recoverable: exiting now\n",
            "Collecting pyspark\n",
            "  Downloading pyspark-3.5.1.tar.gz (317.0 MB)\n",
            "\u001b[2K     \u001b[90m━━━━━━━━━━━━━━━━━━━━━━━━━━━━━━━━━━━━━━━━\u001b[0m \u001b[32m317.0/317.0 MB\u001b[0m \u001b[31m3.2 MB/s\u001b[0m eta \u001b[36m0:00:00\u001b[0m\n",
            "\u001b[?25h  Preparing metadata (setup.py) ... \u001b[?25l\u001b[?25hdone\n",
            "Requirement already satisfied: py4j==0.10.9.7 in /usr/local/lib/python3.10/dist-packages (from pyspark) (0.10.9.7)\n",
            "Building wheels for collected packages: pyspark\n",
            "  Building wheel for pyspark (setup.py) ... \u001b[?25l\u001b[?25hdone\n",
            "  Created wheel for pyspark: filename=pyspark-3.5.1-py2.py3-none-any.whl size=317488491 sha256=72c7be51960e4fcf922cc4fe66ba529911a46ea8dfd869e90bfbc7bf94d1231c\n",
            "  Stored in directory: /root/.cache/pip/wheels/80/1d/60/2c256ed38dddce2fdd93be545214a63e02fbd8d74fb0b7f3a6\n",
            "Successfully built pyspark\n",
            "Installing collected packages: pyspark\n",
            "Successfully installed pyspark-3.5.1\n",
            "Requirement already satisfied: py4j in /usr/local/lib/python3.10/dist-packages (0.10.9.7)\n"
          ]
        }
      ],
      "source": [
        "!sudo apt update\n",
        "!apt-get install openjdk-8-jdk-headless -qq > /dev/null\n",
        "# Check this site for the latest download link https://www.apache.org/dyn/closer.lua/spark/spark-3.2.1/spark-3.2.1-bin-hadoop3.2.tgz\n",
        "!wget -q https://dlcdn.apache.org/spark/spark-3.2.1/spark-3.2.1-bin-hadoop3.2.tgz\n",
        "!tar xf spark-3.2.1-bin-hadoop3.2.tgz\n",
        "!pip install -q findspark\n",
        "!pip install pyspark\n",
        "!pip install py4j\n",
        "import os\n",
        "import sys\n",
        "# os.environ[\"JAVA_HOME\"] = \"/usr/lib/jvm/java-8-openjdk-amd64\"\n",
        "# os.environ[\"SPARK_HOME\"] = \"/content/spark-3.2.1-bin-hadoop3.2\""
      ]
    },
    {
      "cell_type": "code",
      "execution_count": 2,
      "metadata": {
        "id": "CxwarnSH3m3n"
      },
      "outputs": [],
      "source": [
        "# Import packages\n",
        "import findspark\n",
        "findspark.init()\n",
        "findspark.find()\n",
        "import pyspark\n",
        "from pyspark.sql import DataFrame, SparkSession\n",
        "import time\n",
        "from typing import List\n",
        "import pyspark.sql.types as T\n",
        "import pyspark.sql.functions as F"
      ]
    },
    {
      "cell_type": "code",
      "execution_count": 3,
      "metadata": {
        "colab": {
          "base_uri": "https://localhost:8080/",
          "height": 219
        },
        "id": "vFpbquPA3ri_",
        "outputId": "3385a7eb-21cc-4988-e1be-c311f99a4899"
      },
      "outputs": [
        {
          "output_type": "execute_result",
          "data": {
            "text/plain": [
              "<pyspark.sql.session.SparkSession at 0x7ff87c22e020>"
            ],
            "text/html": [
              "\n",
              "            <div>\n",
              "                <p><b>SparkSession - in-memory</b></p>\n",
              "                \n",
              "        <div>\n",
              "            <p><b>SparkContext</b></p>\n",
              "\n",
              "            <p><a href=\"http://e5a757c7a769:4040\">Spark UI</a></p>\n",
              "\n",
              "            <dl>\n",
              "              <dt>Version</dt>\n",
              "                <dd><code>v3.5.1</code></dd>\n",
              "              <dt>Master</dt>\n",
              "                <dd><code>local[*]</code></dd>\n",
              "              <dt>AppName</dt>\n",
              "                <dd><code>Project 4 Group 3 Spark</code></dd>\n",
              "            </dl>\n",
              "        </div>\n",
              "        \n",
              "            </div>\n",
              "        "
            ]
          },
          "metadata": {},
          "execution_count": 3
        }
      ],
      "source": [
        "# Create a SparkSession\n",
        "spark= SparkSession \\\n",
        "       .builder \\\n",
        "       .appName(\"Project 4 Group 3 Spark\") \\\n",
        "       .getOrCreate()\n",
        "spark"
      ]
    },
    {
      "cell_type": "code",
      "execution_count": 4,
      "metadata": {
        "colab": {
          "base_uri": "https://localhost:8080/"
        },
        "id": "Au9qazsL3zyb",
        "outputId": "76038640-3f74-4ab3-dd32-1a35d0dd6532"
      },
      "outputs": [
        {
          "output_type": "stream",
          "name": "stdout",
          "text": [
            "+-----+------+---+------------+-------------+------------+-------------+--------------+-----------------+----+---------------+------+\n",
            "|   id|gender|age|hypertension|heart_disease|ever_married|    work_type|Residence_type|avg_glucose_level| bmi| smoking_status|stroke|\n",
            "+-----+------+---+------------+-------------+------------+-------------+--------------+-----------------+----+---------------+------+\n",
            "| 9046|  Male| 67|           0|            1|         Yes|      Private|         Urban|           228.69|36.6|formerly smoked|     1|\n",
            "|51676|Female| 61|           0|            0|         Yes|Self-employed|         Rural|           202.21| N/A|   never smoked|     1|\n",
            "|31112|  Male| 80|           0|            1|         Yes|      Private|         Rural|           105.92|32.5|   never smoked|     1|\n",
            "|60182|Female| 49|           0|            0|         Yes|      Private|         Urban|           171.23|34.4|         smokes|     1|\n",
            "| 1665|Female| 79|           1|            0|         Yes|Self-employed|         Rural|           174.12|  24|   never smoked|     1|\n",
            "|56669|  Male| 81|           0|            0|         Yes|      Private|         Urban|           186.21|  29|formerly smoked|     1|\n",
            "|53882|  Male| 74|           1|            1|         Yes|      Private|         Rural|            70.09|27.4|   never smoked|     1|\n",
            "|10434|Female| 69|           0|            0|          No|      Private|         Urban|            94.39|22.8|   never smoked|     1|\n",
            "|27419|Female| 59|           0|            0|         Yes|      Private|         Rural|            76.15| N/A|        Unknown|     1|\n",
            "|60491|Female| 78|           0|            0|         Yes|      Private|         Urban|            58.57|24.2|        Unknown|     1|\n",
            "|12109|Female| 81|           1|            0|         Yes|      Private|         Rural|            80.43|29.7|   never smoked|     1|\n",
            "|12095|Female| 61|           0|            1|         Yes|     Govt_job|         Rural|           120.46|36.8|         smokes|     1|\n",
            "|12175|Female| 54|           0|            0|         Yes|      Private|         Urban|           104.51|27.3|         smokes|     1|\n",
            "| 8213|  Male| 78|           0|            1|         Yes|      Private|         Urban|           219.84| N/A|        Unknown|     1|\n",
            "| 5317|Female| 79|           0|            1|         Yes|      Private|         Urban|           214.09|28.2|   never smoked|     1|\n",
            "|58202|Female| 50|           1|            0|         Yes|Self-employed|         Rural|           167.41|30.9|   never smoked|     1|\n",
            "|56112|  Male| 64|           0|            1|         Yes|      Private|         Urban|           191.61|37.5|         smokes|     1|\n",
            "|34120|  Male| 75|           1|            0|         Yes|      Private|         Urban|           221.29|25.8|         smokes|     1|\n",
            "|27458|Female| 60|           0|            0|          No|      Private|         Urban|            89.22|37.8|   never smoked|     1|\n",
            "|25226|  Male| 57|           0|            1|          No|     Govt_job|         Urban|           217.08| N/A|        Unknown|     1|\n",
            "+-----+------+---+------------+-------------+------------+-------------+--------------+-----------------+----+---------------+------+\n",
            "only showing top 20 rows\n",
            "\n"
          ]
        }
      ],
      "source": [
        "# Read in data from Github as a DataFrame.\n",
        "from pyspark import SparkFiles\n",
        "url = \"https://raw.githubusercontent.com/AlexFeeney/Project4_Group3/main/Data/healthcare-dataset-stroke-data.csv\"\n",
        "spark.sparkContext.addFile(url)\n",
        "df = spark.read.csv(SparkFiles.get(\"healthcare-dataset-stroke-data.csv\"), sep=\",\", header=True)\n",
        "\n",
        "# Show DataFrame\n",
        "df.show()"
      ]
    },
    {
      "cell_type": "markdown",
      "metadata": {
        "id": "c9weEvbhRGHN"
      },
      "source": [
        "# Preprocessing"
      ]
    },
    {
      "cell_type": "code",
      "execution_count": 5,
      "metadata": {
        "id": "HE6-yvjG578P"
      },
      "outputs": [],
      "source": [
        "# Import our dependencies\n",
        "from sklearn.model_selection import train_test_split\n",
        "from sklearn.preprocessing import StandardScaler\n",
        "import pandas as pd\n",
        "import tensorflow as tf\n",
        "from keras.callbacks import ModelCheckpoint"
      ]
    },
    {
      "cell_type": "code",
      "execution_count": 6,
      "metadata": {
        "id": "Oc8k8ulT6GhT"
      },
      "outputs": [],
      "source": [
        "# Convert DataFrame to Pandas DataFrame\n",
        "pandas_df = df.toPandas()"
      ]
    },
    {
      "cell_type": "code",
      "execution_count": 7,
      "metadata": {
        "colab": {
          "base_uri": "https://localhost:8080/"
        },
        "id": "Zwq1DVTW8yFA",
        "outputId": "5461ffba-5762-433f-be75-0c4adb2b1da0"
      },
      "outputs": [
        {
          "output_type": "execute_result",
          "data": {
            "text/plain": [
              "id                   5110\n",
              "gender                  3\n",
              "age                   104\n",
              "hypertension            2\n",
              "heart_disease           2\n",
              "ever_married            2\n",
              "work_type               5\n",
              "Residence_type          2\n",
              "avg_glucose_level    3979\n",
              "bmi                   419\n",
              "smoking_status          4\n",
              "stroke                  2\n",
              "dtype: int64"
            ]
          },
          "metadata": {},
          "execution_count": 7
        }
      ],
      "source": [
        "# Determine the number of unique values in each column.\n",
        "pandas_df.nunique()"
      ]
    },
    {
      "cell_type": "code",
      "execution_count": 8,
      "metadata": {
        "colab": {
          "base_uri": "https://localhost:8080/"
        },
        "id": "Xs8zKvw7-MNM",
        "outputId": "a0ffa3dc-41a9-4f4a-a1d9-36c440611790"
      },
      "outputs": [
        {
          "output_type": "execute_result",
          "data": {
            "text/plain": [
              "Female    2994\n",
              "Male      2115\n",
              "Other        1\n",
              "Name: gender, dtype: int64"
            ]
          },
          "metadata": {},
          "execution_count": 8
        }
      ],
      "source": [
        "# Count unique values in column 'gender'\n",
        "pandas_df['gender'].value_counts()"
      ]
    },
    {
      "cell_type": "code",
      "execution_count": 9,
      "metadata": {
        "colab": {
          "base_uri": "https://localhost:8080/"
        },
        "id": "GwDsVlur9plc",
        "outputId": "6f46d2bb-1f27-47b5-e0d7-9749d9113043"
      },
      "outputs": [
        {
          "output_type": "execute_result",
          "data": {
            "text/plain": [
              "Female    2994\n",
              "Male      2115\n",
              "Name: gender, dtype: int64"
            ]
          },
          "metadata": {},
          "execution_count": 9
        }
      ],
      "source": [
        "# Conditionally drop rows where column 'gender' contains the text 'Other'\n",
        "# pandas_df_clean = pandas_df[~pandas_df['gender'].str.contains('Other')]\n",
        "\n",
        "# Drop \"other\" values (case-insensitive and strip whitespaces)\n",
        "pandas_df_clean = pandas_df[pandas_df['gender'].str.strip().str.lower() != 'other']\n",
        "\n",
        "pandas_df_clean['gender'].value_counts()"
      ]
    },
    {
      "cell_type": "code",
      "execution_count": 12,
      "metadata": {
        "id": "LDmsCXWrADD0",
        "colab": {
          "base_uri": "https://localhost:8080/"
        },
        "outputId": "f40bc72d-a3b1-4f4e-c5e7-b96d31241ae7"
      },
      "outputs": [
        {
          "output_type": "execute_result",
          "data": {
            "text/plain": [
              "Female    2897\n",
              "Male      2011\n",
              "Other        1\n",
              "Name: gender, dtype: int64"
            ]
          },
          "metadata": {},
          "execution_count": 12
        }
      ],
      "source": [
        "# Conditionally drop rows where column 'bmi' contains the text 'N/A'\n",
        "pandas_df_clean = pandas_df[~pandas_df['bmi'].str.contains('N/A')]\n",
        "\n",
        "pandas_df_clean['gender'].value_counts()"
      ]
    },
    {
      "cell_type": "code",
      "execution_count": 13,
      "metadata": {
        "colab": {
          "base_uri": "https://localhost:8080/",
          "height": 223
        },
        "id": "N-6g_QvAFUs4",
        "outputId": "c4e64271-83de-481d-bc0a-5ce6129387e3"
      },
      "outputs": [
        {
          "output_type": "execute_result",
          "data": {
            "text/plain": [
              "   gender age hypertension heart_disease ever_married      work_type  \\\n",
              "0    Male  67            0             1          Yes        Private   \n",
              "2    Male  80            0             1          Yes        Private   \n",
              "3  Female  49            0             0          Yes        Private   \n",
              "4  Female  79            1             0          Yes  Self-employed   \n",
              "5    Male  81            0             0          Yes        Private   \n",
              "\n",
              "  Residence_type avg_glucose_level   bmi   smoking_status stroke  \n",
              "0          Urban            228.69  36.6  formerly smoked      1  \n",
              "2          Rural            105.92  32.5     never smoked      1  \n",
              "3          Urban            171.23  34.4           smokes      1  \n",
              "4          Rural            174.12    24     never smoked      1  \n",
              "5          Urban            186.21    29  formerly smoked      1  "
            ],
            "text/html": [
              "\n",
              "  <div id=\"df-a95ff0fd-a644-4d9d-9ccc-ad746d13a2ab\" class=\"colab-df-container\">\n",
              "    <div>\n",
              "<style scoped>\n",
              "    .dataframe tbody tr th:only-of-type {\n",
              "        vertical-align: middle;\n",
              "    }\n",
              "\n",
              "    .dataframe tbody tr th {\n",
              "        vertical-align: top;\n",
              "    }\n",
              "\n",
              "    .dataframe thead th {\n",
              "        text-align: right;\n",
              "    }\n",
              "</style>\n",
              "<table border=\"1\" class=\"dataframe\">\n",
              "  <thead>\n",
              "    <tr style=\"text-align: right;\">\n",
              "      <th></th>\n",
              "      <th>gender</th>\n",
              "      <th>age</th>\n",
              "      <th>hypertension</th>\n",
              "      <th>heart_disease</th>\n",
              "      <th>ever_married</th>\n",
              "      <th>work_type</th>\n",
              "      <th>Residence_type</th>\n",
              "      <th>avg_glucose_level</th>\n",
              "      <th>bmi</th>\n",
              "      <th>smoking_status</th>\n",
              "      <th>stroke</th>\n",
              "    </tr>\n",
              "  </thead>\n",
              "  <tbody>\n",
              "    <tr>\n",
              "      <th>0</th>\n",
              "      <td>Male</td>\n",
              "      <td>67</td>\n",
              "      <td>0</td>\n",
              "      <td>1</td>\n",
              "      <td>Yes</td>\n",
              "      <td>Private</td>\n",
              "      <td>Urban</td>\n",
              "      <td>228.69</td>\n",
              "      <td>36.6</td>\n",
              "      <td>formerly smoked</td>\n",
              "      <td>1</td>\n",
              "    </tr>\n",
              "    <tr>\n",
              "      <th>2</th>\n",
              "      <td>Male</td>\n",
              "      <td>80</td>\n",
              "      <td>0</td>\n",
              "      <td>1</td>\n",
              "      <td>Yes</td>\n",
              "      <td>Private</td>\n",
              "      <td>Rural</td>\n",
              "      <td>105.92</td>\n",
              "      <td>32.5</td>\n",
              "      <td>never smoked</td>\n",
              "      <td>1</td>\n",
              "    </tr>\n",
              "    <tr>\n",
              "      <th>3</th>\n",
              "      <td>Female</td>\n",
              "      <td>49</td>\n",
              "      <td>0</td>\n",
              "      <td>0</td>\n",
              "      <td>Yes</td>\n",
              "      <td>Private</td>\n",
              "      <td>Urban</td>\n",
              "      <td>171.23</td>\n",
              "      <td>34.4</td>\n",
              "      <td>smokes</td>\n",
              "      <td>1</td>\n",
              "    </tr>\n",
              "    <tr>\n",
              "      <th>4</th>\n",
              "      <td>Female</td>\n",
              "      <td>79</td>\n",
              "      <td>1</td>\n",
              "      <td>0</td>\n",
              "      <td>Yes</td>\n",
              "      <td>Self-employed</td>\n",
              "      <td>Rural</td>\n",
              "      <td>174.12</td>\n",
              "      <td>24</td>\n",
              "      <td>never smoked</td>\n",
              "      <td>1</td>\n",
              "    </tr>\n",
              "    <tr>\n",
              "      <th>5</th>\n",
              "      <td>Male</td>\n",
              "      <td>81</td>\n",
              "      <td>0</td>\n",
              "      <td>0</td>\n",
              "      <td>Yes</td>\n",
              "      <td>Private</td>\n",
              "      <td>Urban</td>\n",
              "      <td>186.21</td>\n",
              "      <td>29</td>\n",
              "      <td>formerly smoked</td>\n",
              "      <td>1</td>\n",
              "    </tr>\n",
              "  </tbody>\n",
              "</table>\n",
              "</div>\n",
              "    <div class=\"colab-df-buttons\">\n",
              "\n",
              "  <div class=\"colab-df-container\">\n",
              "    <button class=\"colab-df-convert\" onclick=\"convertToInteractive('df-a95ff0fd-a644-4d9d-9ccc-ad746d13a2ab')\"\n",
              "            title=\"Convert this dataframe to an interactive table.\"\n",
              "            style=\"display:none;\">\n",
              "\n",
              "  <svg xmlns=\"http://www.w3.org/2000/svg\" height=\"24px\" viewBox=\"0 -960 960 960\">\n",
              "    <path d=\"M120-120v-720h720v720H120Zm60-500h600v-160H180v160Zm220 220h160v-160H400v160Zm0 220h160v-160H400v160ZM180-400h160v-160H180v160Zm440 0h160v-160H620v160ZM180-180h160v-160H180v160Zm440 0h160v-160H620v160Z\"/>\n",
              "  </svg>\n",
              "    </button>\n",
              "\n",
              "  <style>\n",
              "    .colab-df-container {\n",
              "      display:flex;\n",
              "      gap: 12px;\n",
              "    }\n",
              "\n",
              "    .colab-df-convert {\n",
              "      background-color: #E8F0FE;\n",
              "      border: none;\n",
              "      border-radius: 50%;\n",
              "      cursor: pointer;\n",
              "      display: none;\n",
              "      fill: #1967D2;\n",
              "      height: 32px;\n",
              "      padding: 0 0 0 0;\n",
              "      width: 32px;\n",
              "    }\n",
              "\n",
              "    .colab-df-convert:hover {\n",
              "      background-color: #E2EBFA;\n",
              "      box-shadow: 0px 1px 2px rgba(60, 64, 67, 0.3), 0px 1px 3px 1px rgba(60, 64, 67, 0.15);\n",
              "      fill: #174EA6;\n",
              "    }\n",
              "\n",
              "    .colab-df-buttons div {\n",
              "      margin-bottom: 4px;\n",
              "    }\n",
              "\n",
              "    [theme=dark] .colab-df-convert {\n",
              "      background-color: #3B4455;\n",
              "      fill: #D2E3FC;\n",
              "    }\n",
              "\n",
              "    [theme=dark] .colab-df-convert:hover {\n",
              "      background-color: #434B5C;\n",
              "      box-shadow: 0px 1px 3px 1px rgba(0, 0, 0, 0.15);\n",
              "      filter: drop-shadow(0px 1px 2px rgba(0, 0, 0, 0.3));\n",
              "      fill: #FFFFFF;\n",
              "    }\n",
              "  </style>\n",
              "\n",
              "    <script>\n",
              "      const buttonEl =\n",
              "        document.querySelector('#df-a95ff0fd-a644-4d9d-9ccc-ad746d13a2ab button.colab-df-convert');\n",
              "      buttonEl.style.display =\n",
              "        google.colab.kernel.accessAllowed ? 'block' : 'none';\n",
              "\n",
              "      async function convertToInteractive(key) {\n",
              "        const element = document.querySelector('#df-a95ff0fd-a644-4d9d-9ccc-ad746d13a2ab');\n",
              "        const dataTable =\n",
              "          await google.colab.kernel.invokeFunction('convertToInteractive',\n",
              "                                                    [key], {});\n",
              "        if (!dataTable) return;\n",
              "\n",
              "        const docLinkHtml = 'Like what you see? Visit the ' +\n",
              "          '<a target=\"_blank\" href=https://colab.research.google.com/notebooks/data_table.ipynb>data table notebook</a>'\n",
              "          + ' to learn more about interactive tables.';\n",
              "        element.innerHTML = '';\n",
              "        dataTable['output_type'] = 'display_data';\n",
              "        await google.colab.output.renderOutput(dataTable, element);\n",
              "        const docLink = document.createElement('div');\n",
              "        docLink.innerHTML = docLinkHtml;\n",
              "        element.appendChild(docLink);\n",
              "      }\n",
              "    </script>\n",
              "  </div>\n",
              "\n",
              "\n",
              "<div id=\"df-4fbf70cb-c5fb-470d-ae1b-d2dbd9e8cb4c\">\n",
              "  <button class=\"colab-df-quickchart\" onclick=\"quickchart('df-4fbf70cb-c5fb-470d-ae1b-d2dbd9e8cb4c')\"\n",
              "            title=\"Suggest charts\"\n",
              "            style=\"display:none;\">\n",
              "\n",
              "<svg xmlns=\"http://www.w3.org/2000/svg\" height=\"24px\"viewBox=\"0 0 24 24\"\n",
              "     width=\"24px\">\n",
              "    <g>\n",
              "        <path d=\"M19 3H5c-1.1 0-2 .9-2 2v14c0 1.1.9 2 2 2h14c1.1 0 2-.9 2-2V5c0-1.1-.9-2-2-2zM9 17H7v-7h2v7zm4 0h-2V7h2v10zm4 0h-2v-4h2v4z\"/>\n",
              "    </g>\n",
              "</svg>\n",
              "  </button>\n",
              "\n",
              "<style>\n",
              "  .colab-df-quickchart {\n",
              "      --bg-color: #E8F0FE;\n",
              "      --fill-color: #1967D2;\n",
              "      --hover-bg-color: #E2EBFA;\n",
              "      --hover-fill-color: #174EA6;\n",
              "      --disabled-fill-color: #AAA;\n",
              "      --disabled-bg-color: #DDD;\n",
              "  }\n",
              "\n",
              "  [theme=dark] .colab-df-quickchart {\n",
              "      --bg-color: #3B4455;\n",
              "      --fill-color: #D2E3FC;\n",
              "      --hover-bg-color: #434B5C;\n",
              "      --hover-fill-color: #FFFFFF;\n",
              "      --disabled-bg-color: #3B4455;\n",
              "      --disabled-fill-color: #666;\n",
              "  }\n",
              "\n",
              "  .colab-df-quickchart {\n",
              "    background-color: var(--bg-color);\n",
              "    border: none;\n",
              "    border-radius: 50%;\n",
              "    cursor: pointer;\n",
              "    display: none;\n",
              "    fill: var(--fill-color);\n",
              "    height: 32px;\n",
              "    padding: 0;\n",
              "    width: 32px;\n",
              "  }\n",
              "\n",
              "  .colab-df-quickchart:hover {\n",
              "    background-color: var(--hover-bg-color);\n",
              "    box-shadow: 0 1px 2px rgba(60, 64, 67, 0.3), 0 1px 3px 1px rgba(60, 64, 67, 0.15);\n",
              "    fill: var(--button-hover-fill-color);\n",
              "  }\n",
              "\n",
              "  .colab-df-quickchart-complete:disabled,\n",
              "  .colab-df-quickchart-complete:disabled:hover {\n",
              "    background-color: var(--disabled-bg-color);\n",
              "    fill: var(--disabled-fill-color);\n",
              "    box-shadow: none;\n",
              "  }\n",
              "\n",
              "  .colab-df-spinner {\n",
              "    border: 2px solid var(--fill-color);\n",
              "    border-color: transparent;\n",
              "    border-bottom-color: var(--fill-color);\n",
              "    animation:\n",
              "      spin 1s steps(1) infinite;\n",
              "  }\n",
              "\n",
              "  @keyframes spin {\n",
              "    0% {\n",
              "      border-color: transparent;\n",
              "      border-bottom-color: var(--fill-color);\n",
              "      border-left-color: var(--fill-color);\n",
              "    }\n",
              "    20% {\n",
              "      border-color: transparent;\n",
              "      border-left-color: var(--fill-color);\n",
              "      border-top-color: var(--fill-color);\n",
              "    }\n",
              "    30% {\n",
              "      border-color: transparent;\n",
              "      border-left-color: var(--fill-color);\n",
              "      border-top-color: var(--fill-color);\n",
              "      border-right-color: var(--fill-color);\n",
              "    }\n",
              "    40% {\n",
              "      border-color: transparent;\n",
              "      border-right-color: var(--fill-color);\n",
              "      border-top-color: var(--fill-color);\n",
              "    }\n",
              "    60% {\n",
              "      border-color: transparent;\n",
              "      border-right-color: var(--fill-color);\n",
              "    }\n",
              "    80% {\n",
              "      border-color: transparent;\n",
              "      border-right-color: var(--fill-color);\n",
              "      border-bottom-color: var(--fill-color);\n",
              "    }\n",
              "    90% {\n",
              "      border-color: transparent;\n",
              "      border-bottom-color: var(--fill-color);\n",
              "    }\n",
              "  }\n",
              "</style>\n",
              "\n",
              "  <script>\n",
              "    async function quickchart(key) {\n",
              "      const quickchartButtonEl =\n",
              "        document.querySelector('#' + key + ' button');\n",
              "      quickchartButtonEl.disabled = true;  // To prevent multiple clicks.\n",
              "      quickchartButtonEl.classList.add('colab-df-spinner');\n",
              "      try {\n",
              "        const charts = await google.colab.kernel.invokeFunction(\n",
              "            'suggestCharts', [key], {});\n",
              "      } catch (error) {\n",
              "        console.error('Error during call to suggestCharts:', error);\n",
              "      }\n",
              "      quickchartButtonEl.classList.remove('colab-df-spinner');\n",
              "      quickchartButtonEl.classList.add('colab-df-quickchart-complete');\n",
              "    }\n",
              "    (() => {\n",
              "      let quickchartButtonEl =\n",
              "        document.querySelector('#df-4fbf70cb-c5fb-470d-ae1b-d2dbd9e8cb4c button');\n",
              "      quickchartButtonEl.style.display =\n",
              "        google.colab.kernel.accessAllowed ? 'block' : 'none';\n",
              "    })();\n",
              "  </script>\n",
              "</div>\n",
              "\n",
              "    </div>\n",
              "  </div>\n"
            ],
            "application/vnd.google.colaboratory.intrinsic+json": {
              "type": "dataframe",
              "variable_name": "pandas_df_clean",
              "summary": "{\n  \"name\": \"pandas_df_clean\",\n  \"rows\": 4909,\n  \"fields\": [\n    {\n      \"column\": \"gender\",\n      \"properties\": {\n        \"dtype\": \"category\",\n        \"num_unique_values\": 3,\n        \"samples\": [\n          \"Male\",\n          \"Female\",\n          \"Other\"\n        ],\n        \"semantic_type\": \"\",\n        \"description\": \"\"\n      }\n    },\n    {\n      \"column\": \"age\",\n      \"properties\": {\n        \"dtype\": \"category\",\n        \"num_unique_values\": 104,\n        \"samples\": [\n          \"70\",\n          \"36\",\n          \"24\"\n        ],\n        \"semantic_type\": \"\",\n        \"description\": \"\"\n      }\n    },\n    {\n      \"column\": \"hypertension\",\n      \"properties\": {\n        \"dtype\": \"category\",\n        \"num_unique_values\": 2,\n        \"samples\": [\n          \"1\",\n          \"0\"\n        ],\n        \"semantic_type\": \"\",\n        \"description\": \"\"\n      }\n    },\n    {\n      \"column\": \"heart_disease\",\n      \"properties\": {\n        \"dtype\": \"category\",\n        \"num_unique_values\": 2,\n        \"samples\": [\n          \"0\",\n          \"1\"\n        ],\n        \"semantic_type\": \"\",\n        \"description\": \"\"\n      }\n    },\n    {\n      \"column\": \"ever_married\",\n      \"properties\": {\n        \"dtype\": \"category\",\n        \"num_unique_values\": 2,\n        \"samples\": [\n          \"No\",\n          \"Yes\"\n        ],\n        \"semantic_type\": \"\",\n        \"description\": \"\"\n      }\n    },\n    {\n      \"column\": \"work_type\",\n      \"properties\": {\n        \"dtype\": \"category\",\n        \"num_unique_values\": 5,\n        \"samples\": [\n          \"Self-employed\",\n          \"Never_worked\"\n        ],\n        \"semantic_type\": \"\",\n        \"description\": \"\"\n      }\n    },\n    {\n      \"column\": \"Residence_type\",\n      \"properties\": {\n        \"dtype\": \"category\",\n        \"num_unique_values\": 2,\n        \"samples\": [\n          \"Rural\",\n          \"Urban\"\n        ],\n        \"semantic_type\": \"\",\n        \"description\": \"\"\n      }\n    },\n    {\n      \"column\": \"avg_glucose_level\",\n      \"properties\": {\n        \"dtype\": \"string\",\n        \"num_unique_values\": 3852,\n        \"samples\": [\n          \"231.15\",\n          \"100.61\"\n        ],\n        \"semantic_type\": \"\",\n        \"description\": \"\"\n      }\n    },\n    {\n      \"column\": \"bmi\",\n      \"properties\": {\n        \"dtype\": \"category\",\n        \"num_unique_values\": 418,\n        \"samples\": [\n          \"49.5\",\n          \"18.5\"\n        ],\n        \"semantic_type\": \"\",\n        \"description\": \"\"\n      }\n    },\n    {\n      \"column\": \"smoking_status\",\n      \"properties\": {\n        \"dtype\": \"category\",\n        \"num_unique_values\": 4,\n        \"samples\": [\n          \"never smoked\",\n          \"Unknown\"\n        ],\n        \"semantic_type\": \"\",\n        \"description\": \"\"\n      }\n    },\n    {\n      \"column\": \"stroke\",\n      \"properties\": {\n        \"dtype\": \"category\",\n        \"num_unique_values\": 2,\n        \"samples\": [\n          \"0\",\n          \"1\"\n        ],\n        \"semantic_type\": \"\",\n        \"description\": \"\"\n      }\n    }\n  ]\n}"
            }
          },
          "metadata": {},
          "execution_count": 13
        }
      ],
      "source": [
        "# Drop the non-beneficial 'id' columns\n",
        "pandas_df_clean = pandas_df_clean.drop(columns = ['id'])\n",
        "pandas_df_clean.head()"
      ]
    },
    {
      "cell_type": "code",
      "execution_count": 14,
      "metadata": {
        "colab": {
          "base_uri": "https://localhost:8080/"
        },
        "id": "LmMPlDZDAhqD",
        "outputId": "3b86cd26-8450-4663-9784-062231c642cc"
      },
      "outputs": [
        {
          "output_type": "stream",
          "name": "stdout",
          "text": [
            "gender               object\n",
            "age                  object\n",
            "hypertension         object\n",
            "heart_disease        object\n",
            "ever_married         object\n",
            "work_type            object\n",
            "Residence_type       object\n",
            "avg_glucose_level    object\n",
            "bmi                  object\n",
            "smoking_status       object\n",
            "stroke               object\n",
            "dtype: object\n"
          ]
        }
      ],
      "source": [
        "# Check data types of columns\n",
        "print(pandas_df_clean.dtypes)"
      ]
    },
    {
      "cell_type": "code",
      "execution_count": 15,
      "metadata": {
        "id": "Im1qIebqAyY0"
      },
      "outputs": [],
      "source": [
        "import numpy as np\n",
        "\n",
        "# Change data types using astype()\n",
        "pandas_df_clean['age'] = pandas_df_clean['age'].astype(float)\n",
        "pandas_df_clean['hypertension'] = pandas_df_clean['hypertension'].astype(np.int64)\n",
        "pandas_df_clean['avg_glucose_level'] = pandas_df_clean['avg_glucose_level'].astype(float)\n",
        "pandas_df_clean['bmi'] = pandas_df_clean['bmi'].astype(float)\n",
        "pandas_df_clean['heart_disease'] = pandas_df_clean['heart_disease'].astype(np.int64)\n",
        "pandas_df_clean['stroke'] = pandas_df_clean['stroke'].astype(np.int64)\n"
      ]
    },
    {
      "cell_type": "code",
      "execution_count": 16,
      "metadata": {
        "colab": {
          "base_uri": "https://localhost:8080/"
        },
        "id": "IiYSJUonEGuq",
        "outputId": "389965e0-c9ef-488a-fec1-82007be213b8"
      },
      "outputs": [
        {
          "output_type": "stream",
          "name": "stdout",
          "text": [
            "gender                object\n",
            "age                  float64\n",
            "hypertension           int64\n",
            "heart_disease          int64\n",
            "ever_married          object\n",
            "work_type             object\n",
            "Residence_type        object\n",
            "avg_glucose_level    float64\n",
            "bmi                  float64\n",
            "smoking_status        object\n",
            "stroke                 int64\n",
            "dtype: object\n"
          ]
        }
      ],
      "source": [
        "# Check data types of columns\n",
        "print(pandas_df_clean.dtypes)"
      ]
    },
    {
      "cell_type": "code",
      "execution_count": 17,
      "metadata": {
        "colab": {
          "base_uri": "https://localhost:8080/",
          "height": 272
        },
        "id": "iPdXCl7M_Kus",
        "outputId": "d1ed0685-cb0c-443b-ab01-7e1c3dedf583"
      },
      "outputs": [
        {
          "output_type": "execute_result",
          "data": {
            "text/plain": [
              "    age  hypertension  heart_disease  avg_glucose_level   bmi  stroke  \\\n",
              "0  67.0             0              1             228.69  36.6       1   \n",
              "2  80.0             0              1             105.92  32.5       1   \n",
              "3  49.0             0              0             171.23  34.4       1   \n",
              "4  79.0             1              0             174.12  24.0       1   \n",
              "5  81.0             0              0             186.21  29.0       1   \n",
              "\n",
              "   gender_Female  gender_Male  gender_Other  ever_married_No  ...  \\\n",
              "0              0            1             0                0  ...   \n",
              "2              0            1             0                0  ...   \n",
              "3              1            0             0                0  ...   \n",
              "4              1            0             0                0  ...   \n",
              "5              0            1             0                0  ...   \n",
              "\n",
              "   work_type_Never_worked  work_type_Private  work_type_Self-employed  \\\n",
              "0                       0                  1                        0   \n",
              "2                       0                  1                        0   \n",
              "3                       0                  1                        0   \n",
              "4                       0                  0                        1   \n",
              "5                       0                  1                        0   \n",
              "\n",
              "   work_type_children  Residence_type_Rural  Residence_type_Urban  \\\n",
              "0                   0                     0                     1   \n",
              "2                   0                     1                     0   \n",
              "3                   0                     0                     1   \n",
              "4                   0                     1                     0   \n",
              "5                   0                     0                     1   \n",
              "\n",
              "   smoking_status_Unknown  smoking_status_formerly smoked  \\\n",
              "0                       0                               1   \n",
              "2                       0                               0   \n",
              "3                       0                               0   \n",
              "4                       0                               0   \n",
              "5                       0                               1   \n",
              "\n",
              "   smoking_status_never smoked  smoking_status_smokes  \n",
              "0                            0                      0  \n",
              "2                            1                      0  \n",
              "3                            0                      1  \n",
              "4                            1                      0  \n",
              "5                            0                      0  \n",
              "\n",
              "[5 rows x 22 columns]"
            ],
            "text/html": [
              "\n",
              "  <div id=\"df-d2369259-b04f-4f8c-a066-485b18474a32\" class=\"colab-df-container\">\n",
              "    <div>\n",
              "<style scoped>\n",
              "    .dataframe tbody tr th:only-of-type {\n",
              "        vertical-align: middle;\n",
              "    }\n",
              "\n",
              "    .dataframe tbody tr th {\n",
              "        vertical-align: top;\n",
              "    }\n",
              "\n",
              "    .dataframe thead th {\n",
              "        text-align: right;\n",
              "    }\n",
              "</style>\n",
              "<table border=\"1\" class=\"dataframe\">\n",
              "  <thead>\n",
              "    <tr style=\"text-align: right;\">\n",
              "      <th></th>\n",
              "      <th>age</th>\n",
              "      <th>hypertension</th>\n",
              "      <th>heart_disease</th>\n",
              "      <th>avg_glucose_level</th>\n",
              "      <th>bmi</th>\n",
              "      <th>stroke</th>\n",
              "      <th>gender_Female</th>\n",
              "      <th>gender_Male</th>\n",
              "      <th>gender_Other</th>\n",
              "      <th>ever_married_No</th>\n",
              "      <th>...</th>\n",
              "      <th>work_type_Never_worked</th>\n",
              "      <th>work_type_Private</th>\n",
              "      <th>work_type_Self-employed</th>\n",
              "      <th>work_type_children</th>\n",
              "      <th>Residence_type_Rural</th>\n",
              "      <th>Residence_type_Urban</th>\n",
              "      <th>smoking_status_Unknown</th>\n",
              "      <th>smoking_status_formerly smoked</th>\n",
              "      <th>smoking_status_never smoked</th>\n",
              "      <th>smoking_status_smokes</th>\n",
              "    </tr>\n",
              "  </thead>\n",
              "  <tbody>\n",
              "    <tr>\n",
              "      <th>0</th>\n",
              "      <td>67.0</td>\n",
              "      <td>0</td>\n",
              "      <td>1</td>\n",
              "      <td>228.69</td>\n",
              "      <td>36.6</td>\n",
              "      <td>1</td>\n",
              "      <td>0</td>\n",
              "      <td>1</td>\n",
              "      <td>0</td>\n",
              "      <td>0</td>\n",
              "      <td>...</td>\n",
              "      <td>0</td>\n",
              "      <td>1</td>\n",
              "      <td>0</td>\n",
              "      <td>0</td>\n",
              "      <td>0</td>\n",
              "      <td>1</td>\n",
              "      <td>0</td>\n",
              "      <td>1</td>\n",
              "      <td>0</td>\n",
              "      <td>0</td>\n",
              "    </tr>\n",
              "    <tr>\n",
              "      <th>2</th>\n",
              "      <td>80.0</td>\n",
              "      <td>0</td>\n",
              "      <td>1</td>\n",
              "      <td>105.92</td>\n",
              "      <td>32.5</td>\n",
              "      <td>1</td>\n",
              "      <td>0</td>\n",
              "      <td>1</td>\n",
              "      <td>0</td>\n",
              "      <td>0</td>\n",
              "      <td>...</td>\n",
              "      <td>0</td>\n",
              "      <td>1</td>\n",
              "      <td>0</td>\n",
              "      <td>0</td>\n",
              "      <td>1</td>\n",
              "      <td>0</td>\n",
              "      <td>0</td>\n",
              "      <td>0</td>\n",
              "      <td>1</td>\n",
              "      <td>0</td>\n",
              "    </tr>\n",
              "    <tr>\n",
              "      <th>3</th>\n",
              "      <td>49.0</td>\n",
              "      <td>0</td>\n",
              "      <td>0</td>\n",
              "      <td>171.23</td>\n",
              "      <td>34.4</td>\n",
              "      <td>1</td>\n",
              "      <td>1</td>\n",
              "      <td>0</td>\n",
              "      <td>0</td>\n",
              "      <td>0</td>\n",
              "      <td>...</td>\n",
              "      <td>0</td>\n",
              "      <td>1</td>\n",
              "      <td>0</td>\n",
              "      <td>0</td>\n",
              "      <td>0</td>\n",
              "      <td>1</td>\n",
              "      <td>0</td>\n",
              "      <td>0</td>\n",
              "      <td>0</td>\n",
              "      <td>1</td>\n",
              "    </tr>\n",
              "    <tr>\n",
              "      <th>4</th>\n",
              "      <td>79.0</td>\n",
              "      <td>1</td>\n",
              "      <td>0</td>\n",
              "      <td>174.12</td>\n",
              "      <td>24.0</td>\n",
              "      <td>1</td>\n",
              "      <td>1</td>\n",
              "      <td>0</td>\n",
              "      <td>0</td>\n",
              "      <td>0</td>\n",
              "      <td>...</td>\n",
              "      <td>0</td>\n",
              "      <td>0</td>\n",
              "      <td>1</td>\n",
              "      <td>0</td>\n",
              "      <td>1</td>\n",
              "      <td>0</td>\n",
              "      <td>0</td>\n",
              "      <td>0</td>\n",
              "      <td>1</td>\n",
              "      <td>0</td>\n",
              "    </tr>\n",
              "    <tr>\n",
              "      <th>5</th>\n",
              "      <td>81.0</td>\n",
              "      <td>0</td>\n",
              "      <td>0</td>\n",
              "      <td>186.21</td>\n",
              "      <td>29.0</td>\n",
              "      <td>1</td>\n",
              "      <td>0</td>\n",
              "      <td>1</td>\n",
              "      <td>0</td>\n",
              "      <td>0</td>\n",
              "      <td>...</td>\n",
              "      <td>0</td>\n",
              "      <td>1</td>\n",
              "      <td>0</td>\n",
              "      <td>0</td>\n",
              "      <td>0</td>\n",
              "      <td>1</td>\n",
              "      <td>0</td>\n",
              "      <td>1</td>\n",
              "      <td>0</td>\n",
              "      <td>0</td>\n",
              "    </tr>\n",
              "  </tbody>\n",
              "</table>\n",
              "<p>5 rows × 22 columns</p>\n",
              "</div>\n",
              "    <div class=\"colab-df-buttons\">\n",
              "\n",
              "  <div class=\"colab-df-container\">\n",
              "    <button class=\"colab-df-convert\" onclick=\"convertToInteractive('df-d2369259-b04f-4f8c-a066-485b18474a32')\"\n",
              "            title=\"Convert this dataframe to an interactive table.\"\n",
              "            style=\"display:none;\">\n",
              "\n",
              "  <svg xmlns=\"http://www.w3.org/2000/svg\" height=\"24px\" viewBox=\"0 -960 960 960\">\n",
              "    <path d=\"M120-120v-720h720v720H120Zm60-500h600v-160H180v160Zm220 220h160v-160H400v160Zm0 220h160v-160H400v160ZM180-400h160v-160H180v160Zm440 0h160v-160H620v160ZM180-180h160v-160H180v160Zm440 0h160v-160H620v160Z\"/>\n",
              "  </svg>\n",
              "    </button>\n",
              "\n",
              "  <style>\n",
              "    .colab-df-container {\n",
              "      display:flex;\n",
              "      gap: 12px;\n",
              "    }\n",
              "\n",
              "    .colab-df-convert {\n",
              "      background-color: #E8F0FE;\n",
              "      border: none;\n",
              "      border-radius: 50%;\n",
              "      cursor: pointer;\n",
              "      display: none;\n",
              "      fill: #1967D2;\n",
              "      height: 32px;\n",
              "      padding: 0 0 0 0;\n",
              "      width: 32px;\n",
              "    }\n",
              "\n",
              "    .colab-df-convert:hover {\n",
              "      background-color: #E2EBFA;\n",
              "      box-shadow: 0px 1px 2px rgba(60, 64, 67, 0.3), 0px 1px 3px 1px rgba(60, 64, 67, 0.15);\n",
              "      fill: #174EA6;\n",
              "    }\n",
              "\n",
              "    .colab-df-buttons div {\n",
              "      margin-bottom: 4px;\n",
              "    }\n",
              "\n",
              "    [theme=dark] .colab-df-convert {\n",
              "      background-color: #3B4455;\n",
              "      fill: #D2E3FC;\n",
              "    }\n",
              "\n",
              "    [theme=dark] .colab-df-convert:hover {\n",
              "      background-color: #434B5C;\n",
              "      box-shadow: 0px 1px 3px 1px rgba(0, 0, 0, 0.15);\n",
              "      filter: drop-shadow(0px 1px 2px rgba(0, 0, 0, 0.3));\n",
              "      fill: #FFFFFF;\n",
              "    }\n",
              "  </style>\n",
              "\n",
              "    <script>\n",
              "      const buttonEl =\n",
              "        document.querySelector('#df-d2369259-b04f-4f8c-a066-485b18474a32 button.colab-df-convert');\n",
              "      buttonEl.style.display =\n",
              "        google.colab.kernel.accessAllowed ? 'block' : 'none';\n",
              "\n",
              "      async function convertToInteractive(key) {\n",
              "        const element = document.querySelector('#df-d2369259-b04f-4f8c-a066-485b18474a32');\n",
              "        const dataTable =\n",
              "          await google.colab.kernel.invokeFunction('convertToInteractive',\n",
              "                                                    [key], {});\n",
              "        if (!dataTable) return;\n",
              "\n",
              "        const docLinkHtml = 'Like what you see? Visit the ' +\n",
              "          '<a target=\"_blank\" href=https://colab.research.google.com/notebooks/data_table.ipynb>data table notebook</a>'\n",
              "          + ' to learn more about interactive tables.';\n",
              "        element.innerHTML = '';\n",
              "        dataTable['output_type'] = 'display_data';\n",
              "        await google.colab.output.renderOutput(dataTable, element);\n",
              "        const docLink = document.createElement('div');\n",
              "        docLink.innerHTML = docLinkHtml;\n",
              "        element.appendChild(docLink);\n",
              "      }\n",
              "    </script>\n",
              "  </div>\n",
              "\n",
              "\n",
              "<div id=\"df-781d3cd9-4cc3-40ca-b1c5-9fd6118bc0ec\">\n",
              "  <button class=\"colab-df-quickchart\" onclick=\"quickchart('df-781d3cd9-4cc3-40ca-b1c5-9fd6118bc0ec')\"\n",
              "            title=\"Suggest charts\"\n",
              "            style=\"display:none;\">\n",
              "\n",
              "<svg xmlns=\"http://www.w3.org/2000/svg\" height=\"24px\"viewBox=\"0 0 24 24\"\n",
              "     width=\"24px\">\n",
              "    <g>\n",
              "        <path d=\"M19 3H5c-1.1 0-2 .9-2 2v14c0 1.1.9 2 2 2h14c1.1 0 2-.9 2-2V5c0-1.1-.9-2-2-2zM9 17H7v-7h2v7zm4 0h-2V7h2v10zm4 0h-2v-4h2v4z\"/>\n",
              "    </g>\n",
              "</svg>\n",
              "  </button>\n",
              "\n",
              "<style>\n",
              "  .colab-df-quickchart {\n",
              "      --bg-color: #E8F0FE;\n",
              "      --fill-color: #1967D2;\n",
              "      --hover-bg-color: #E2EBFA;\n",
              "      --hover-fill-color: #174EA6;\n",
              "      --disabled-fill-color: #AAA;\n",
              "      --disabled-bg-color: #DDD;\n",
              "  }\n",
              "\n",
              "  [theme=dark] .colab-df-quickchart {\n",
              "      --bg-color: #3B4455;\n",
              "      --fill-color: #D2E3FC;\n",
              "      --hover-bg-color: #434B5C;\n",
              "      --hover-fill-color: #FFFFFF;\n",
              "      --disabled-bg-color: #3B4455;\n",
              "      --disabled-fill-color: #666;\n",
              "  }\n",
              "\n",
              "  .colab-df-quickchart {\n",
              "    background-color: var(--bg-color);\n",
              "    border: none;\n",
              "    border-radius: 50%;\n",
              "    cursor: pointer;\n",
              "    display: none;\n",
              "    fill: var(--fill-color);\n",
              "    height: 32px;\n",
              "    padding: 0;\n",
              "    width: 32px;\n",
              "  }\n",
              "\n",
              "  .colab-df-quickchart:hover {\n",
              "    background-color: var(--hover-bg-color);\n",
              "    box-shadow: 0 1px 2px rgba(60, 64, 67, 0.3), 0 1px 3px 1px rgba(60, 64, 67, 0.15);\n",
              "    fill: var(--button-hover-fill-color);\n",
              "  }\n",
              "\n",
              "  .colab-df-quickchart-complete:disabled,\n",
              "  .colab-df-quickchart-complete:disabled:hover {\n",
              "    background-color: var(--disabled-bg-color);\n",
              "    fill: var(--disabled-fill-color);\n",
              "    box-shadow: none;\n",
              "  }\n",
              "\n",
              "  .colab-df-spinner {\n",
              "    border: 2px solid var(--fill-color);\n",
              "    border-color: transparent;\n",
              "    border-bottom-color: var(--fill-color);\n",
              "    animation:\n",
              "      spin 1s steps(1) infinite;\n",
              "  }\n",
              "\n",
              "  @keyframes spin {\n",
              "    0% {\n",
              "      border-color: transparent;\n",
              "      border-bottom-color: var(--fill-color);\n",
              "      border-left-color: var(--fill-color);\n",
              "    }\n",
              "    20% {\n",
              "      border-color: transparent;\n",
              "      border-left-color: var(--fill-color);\n",
              "      border-top-color: var(--fill-color);\n",
              "    }\n",
              "    30% {\n",
              "      border-color: transparent;\n",
              "      border-left-color: var(--fill-color);\n",
              "      border-top-color: var(--fill-color);\n",
              "      border-right-color: var(--fill-color);\n",
              "    }\n",
              "    40% {\n",
              "      border-color: transparent;\n",
              "      border-right-color: var(--fill-color);\n",
              "      border-top-color: var(--fill-color);\n",
              "    }\n",
              "    60% {\n",
              "      border-color: transparent;\n",
              "      border-right-color: var(--fill-color);\n",
              "    }\n",
              "    80% {\n",
              "      border-color: transparent;\n",
              "      border-right-color: var(--fill-color);\n",
              "      border-bottom-color: var(--fill-color);\n",
              "    }\n",
              "    90% {\n",
              "      border-color: transparent;\n",
              "      border-bottom-color: var(--fill-color);\n",
              "    }\n",
              "  }\n",
              "</style>\n",
              "\n",
              "  <script>\n",
              "    async function quickchart(key) {\n",
              "      const quickchartButtonEl =\n",
              "        document.querySelector('#' + key + ' button');\n",
              "      quickchartButtonEl.disabled = true;  // To prevent multiple clicks.\n",
              "      quickchartButtonEl.classList.add('colab-df-spinner');\n",
              "      try {\n",
              "        const charts = await google.colab.kernel.invokeFunction(\n",
              "            'suggestCharts', [key], {});\n",
              "      } catch (error) {\n",
              "        console.error('Error during call to suggestCharts:', error);\n",
              "      }\n",
              "      quickchartButtonEl.classList.remove('colab-df-spinner');\n",
              "      quickchartButtonEl.classList.add('colab-df-quickchart-complete');\n",
              "    }\n",
              "    (() => {\n",
              "      let quickchartButtonEl =\n",
              "        document.querySelector('#df-781d3cd9-4cc3-40ca-b1c5-9fd6118bc0ec button');\n",
              "      quickchartButtonEl.style.display =\n",
              "        google.colab.kernel.accessAllowed ? 'block' : 'none';\n",
              "    })();\n",
              "  </script>\n",
              "</div>\n",
              "\n",
              "    </div>\n",
              "  </div>\n"
            ],
            "application/vnd.google.colaboratory.intrinsic+json": {
              "type": "dataframe",
              "variable_name": "pandas_df_numeric"
            }
          },
          "metadata": {},
          "execution_count": 17
        }
      ],
      "source": [
        "# Convert categorical data to numeric with `pd.get_dummies`\n",
        "pandas_df_numeric = pd.get_dummies(pandas_df_clean, dtype=int)\n",
        "pandas_df_numeric.head()"
      ]
    },
    {
      "cell_type": "code",
      "execution_count": 18,
      "metadata": {
        "colab": {
          "base_uri": "https://localhost:8080/"
        },
        "id": "Eb4Sf2NaLrBO",
        "outputId": "51c466a6-0db0-4360-a4a8-2ac110b78061"
      },
      "outputs": [
        {
          "output_type": "stream",
          "name": "stdout",
          "text": [
            "X_train: (3681, 21)\n",
            "X_test: (1228, 21)\n",
            "y_train: (3681,)\n",
            "y_test: (1228,)\n"
          ]
        }
      ],
      "source": [
        "# Split pandas_df_numeric into features and target arrays\n",
        "y = pandas_df_numeric['stroke'].values\n",
        "X = pandas_df_numeric.drop(columns='stroke').values\n",
        "\n",
        "# Split the preprocessed data into a training and testing dataset\n",
        "X_train, X_test, y_train, y_test = train_test_split(X, y)\n",
        "\n",
        "# Checking split data\n",
        "print (f\"X_train: {X_train.shape}\")\n",
        "print (f\"X_test: {X_test.shape}\")\n",
        "print (f\"y_train: {y_train.shape}\")\n",
        "print (f\"y_test: {y_test.shape}\")"
      ]
    },
    {
      "cell_type": "code",
      "execution_count": 19,
      "metadata": {
        "id": "GqcMoG3fQwxH"
      },
      "outputs": [],
      "source": [
        "# Create a StandardScaler instances\n",
        "scaler = StandardScaler()\n",
        "\n",
        "# Fit the StandardScaler\n",
        "X_scaler = scaler.fit(X_train)\n",
        "\n",
        "# Scale the data\n",
        "X_train_scaled = X_scaler.transform(X_train)\n",
        "X_test_scaled = X_scaler.transform(X_test)"
      ]
    },
    {
      "cell_type": "markdown",
      "metadata": {
        "id": "nw41i2hPROS_"
      },
      "source": [
        "# Compile, Train and Evaluate the Model"
      ]
    },
    {
      "cell_type": "code",
      "execution_count": 20,
      "metadata": {
        "colab": {
          "base_uri": "https://localhost:8080/"
        },
        "id": "BUwaoLVaQ92V",
        "outputId": "e7417459-80a8-4479-b25d-4dc6f617e127"
      },
      "outputs": [
        {
          "output_type": "stream",
          "name": "stdout",
          "text": [
            "Model: \"sequential\"\n",
            "_________________________________________________________________\n",
            " Layer (type)                Output Shape              Param #   \n",
            "=================================================================\n",
            " dense (Dense)               (None, 4)                 88        \n",
            "                                                                 \n",
            " dense_1 (Dense)             (None, 4)                 20        \n",
            "                                                                 \n",
            " dense_2 (Dense)             (None, 1)                 5         \n",
            "                                                                 \n",
            "=================================================================\n",
            "Total params: 113 (452.00 Byte)\n",
            "Trainable params: 113 (452.00 Byte)\n",
            "Non-trainable params: 0 (0.00 Byte)\n",
            "_________________________________________________________________\n"
          ]
        }
      ],
      "source": [
        "# Define the model - deep neural net, i.e., the number of input features and hidden nodes for each layer.\n",
        "input_features_number = len(X_train[0])\n",
        "hidden_nodes_layer1 = 4\n",
        "hidden_nodes_layer2 = 4\n",
        "\n",
        "nn = tf.keras.models.Sequential()\n",
        "\n",
        "# First hidden layer\n",
        "nn.add(tf.keras.layers.Dense(units=hidden_nodes_layer1, activation=\"relu\", input_dim = input_features_number))\n",
        "\n",
        "# Second hidden layer\n",
        "nn.add(tf.keras.layers.Dense(units=hidden_nodes_layer2, activation=\"relu\"))\n",
        "\n",
        "# Output layer\n",
        "nn.add(tf.keras.layers.Dense(units=1, activation=\"sigmoid\"))\n",
        "\n",
        "# Check the structure of the model\n",
        "nn.summary()"
      ]
    },
    {
      "cell_type": "code",
      "execution_count": 21,
      "metadata": {
        "id": "bLj2ZNlgRiB3"
      },
      "outputs": [],
      "source": [
        "# Compile the model\n",
        "nn.compile(loss=\"binary_crossentropy\", optimizer=\"adam\", metrics=[\"accuracy\"])"
      ]
    },
    {
      "cell_type": "code",
      "execution_count": 22,
      "metadata": {
        "id": "W9Yh270NRpx3"
      },
      "outputs": [],
      "source": [
        "# Create a callback that saves the model's weights every five epochs\n",
        "checkpoint_callback = ModelCheckpoint(filepath='model_weights_{epoch:02d}.h5',\n",
        "                                      save_weights_only=True,\n",
        "                                      save_freq=5 * len(X_train))  # Save every 5 epochs"
      ]
    },
    {
      "cell_type": "code",
      "execution_count": 23,
      "metadata": {
        "colab": {
          "base_uri": "https://localhost:8080/"
        },
        "id": "QYUmnjVxRvHK",
        "outputId": "6103d2a7-a57e-4596-d2b1-9b01b572dd68"
      },
      "outputs": [
        {
          "output_type": "stream",
          "name": "stdout",
          "text": [
            "Epoch 1/50\n",
            "116/116 [==============================] - 1s 3ms/step - loss: 0.6128 - accuracy: 0.8001\n",
            "Epoch 2/50\n",
            "116/116 [==============================] - 0s 2ms/step - loss: 0.4095 - accuracy: 0.9579\n",
            "Epoch 3/50\n",
            "116/116 [==============================] - 0s 2ms/step - loss: 0.2641 - accuracy: 0.9579\n",
            "Epoch 4/50\n",
            "116/116 [==============================] - 0s 2ms/step - loss: 0.1948 - accuracy: 0.9579\n",
            "Epoch 5/50\n",
            "116/116 [==============================] - 0s 2ms/step - loss: 0.1738 - accuracy: 0.9579\n",
            "Epoch 6/50\n",
            "116/116 [==============================] - 0s 2ms/step - loss: 0.1658 - accuracy: 0.9579\n",
            "Epoch 7/50\n",
            "116/116 [==============================] - 0s 2ms/step - loss: 0.1609 - accuracy: 0.9579\n",
            "Epoch 8/50\n",
            "116/116 [==============================] - 0s 2ms/step - loss: 0.1581 - accuracy: 0.9579\n",
            "Epoch 9/50\n",
            "116/116 [==============================] - 0s 2ms/step - loss: 0.1559 - accuracy: 0.9579\n",
            "Epoch 10/50\n",
            "116/116 [==============================] - 0s 2ms/step - loss: 0.1543 - accuracy: 0.9579\n",
            "Epoch 11/50\n",
            "116/116 [==============================] - 0s 2ms/step - loss: 0.1528 - accuracy: 0.9579\n",
            "Epoch 12/50\n",
            "116/116 [==============================] - 0s 2ms/step - loss: 0.1517 - accuracy: 0.9579\n",
            "Epoch 13/50\n",
            "116/116 [==============================] - 0s 2ms/step - loss: 0.1504 - accuracy: 0.9579\n",
            "Epoch 14/50\n",
            "116/116 [==============================] - 0s 2ms/step - loss: 0.1494 - accuracy: 0.9579\n",
            "Epoch 15/50\n",
            "116/116 [==============================] - 0s 2ms/step - loss: 0.1483 - accuracy: 0.9579\n",
            "Epoch 16/50\n",
            "116/116 [==============================] - 0s 2ms/step - loss: 0.1474 - accuracy: 0.9579\n",
            "Epoch 17/50\n",
            "116/116 [==============================] - 0s 2ms/step - loss: 0.1465 - accuracy: 0.9579\n",
            "Epoch 18/50\n",
            "116/116 [==============================] - 0s 2ms/step - loss: 0.1457 - accuracy: 0.9579\n",
            "Epoch 19/50\n",
            "116/116 [==============================] - 0s 2ms/step - loss: 0.1450 - accuracy: 0.9579\n",
            "Epoch 20/50\n",
            "116/116 [==============================] - 0s 2ms/step - loss: 0.1444 - accuracy: 0.9579\n",
            "Epoch 21/50\n",
            "116/116 [==============================] - 0s 2ms/step - loss: 0.1436 - accuracy: 0.9579\n",
            "Epoch 22/50\n",
            "116/116 [==============================] - 0s 2ms/step - loss: 0.1431 - accuracy: 0.9579\n",
            "Epoch 23/50\n",
            "116/116 [==============================] - 0s 2ms/step - loss: 0.1426 - accuracy: 0.9579\n",
            "Epoch 24/50\n",
            "116/116 [==============================] - 0s 2ms/step - loss: 0.1418 - accuracy: 0.9579\n",
            "Epoch 25/50\n",
            "116/116 [==============================] - 0s 2ms/step - loss: 0.1413 - accuracy: 0.9579\n",
            "Epoch 26/50\n",
            "116/116 [==============================] - 0s 2ms/step - loss: 0.1409 - accuracy: 0.9579\n",
            "Epoch 27/50\n",
            "116/116 [==============================] - 0s 2ms/step - loss: 0.1404 - accuracy: 0.9579\n",
            "Epoch 28/50\n",
            "116/116 [==============================] - 0s 2ms/step - loss: 0.1401 - accuracy: 0.9579\n",
            "Epoch 29/50\n",
            "116/116 [==============================] - 0s 2ms/step - loss: 0.1395 - accuracy: 0.9579\n",
            "Epoch 30/50\n",
            "116/116 [==============================] - 0s 2ms/step - loss: 0.1392 - accuracy: 0.9579\n",
            "Epoch 31/50\n",
            "116/116 [==============================] - 0s 2ms/step - loss: 0.1389 - accuracy: 0.9579\n",
            "Epoch 32/50\n",
            "116/116 [==============================] - 0s 2ms/step - loss: 0.1386 - accuracy: 0.9579\n",
            "Epoch 33/50\n",
            "116/116 [==============================] - 0s 2ms/step - loss: 0.1384 - accuracy: 0.9579\n",
            "Epoch 34/50\n",
            "116/116 [==============================] - 0s 2ms/step - loss: 0.1379 - accuracy: 0.9579\n",
            "Epoch 35/50\n",
            "116/116 [==============================] - 0s 2ms/step - loss: 0.1376 - accuracy: 0.9579\n",
            "Epoch 36/50\n",
            "116/116 [==============================] - 0s 2ms/step - loss: 0.1374 - accuracy: 0.9579\n",
            "Epoch 37/50\n",
            "116/116 [==============================] - 0s 3ms/step - loss: 0.1374 - accuracy: 0.9579\n",
            "Epoch 38/50\n",
            "116/116 [==============================] - 0s 3ms/step - loss: 0.1373 - accuracy: 0.9579\n",
            "Epoch 39/50\n",
            "116/116 [==============================] - 0s 3ms/step - loss: 0.1369 - accuracy: 0.9579\n",
            "Epoch 40/50\n",
            "116/116 [==============================] - 0s 2ms/step - loss: 0.1369 - accuracy: 0.9579\n",
            "Epoch 41/50\n",
            "116/116 [==============================] - 0s 3ms/step - loss: 0.1367 - accuracy: 0.9579\n",
            "Epoch 42/50\n",
            "116/116 [==============================] - 0s 3ms/step - loss: 0.1364 - accuracy: 0.9579\n",
            "Epoch 43/50\n",
            "116/116 [==============================] - 0s 3ms/step - loss: 0.1363 - accuracy: 0.9579\n",
            "Epoch 44/50\n",
            "116/116 [==============================] - 0s 3ms/step - loss: 0.1361 - accuracy: 0.9579\n",
            "Epoch 45/50\n",
            "116/116 [==============================] - 0s 2ms/step - loss: 0.1362 - accuracy: 0.9579\n",
            "Epoch 46/50\n",
            "116/116 [==============================] - 0s 2ms/step - loss: 0.1360 - accuracy: 0.9579\n",
            "Epoch 47/50\n",
            "116/116 [==============================] - 0s 2ms/step - loss: 0.1360 - accuracy: 0.9579\n",
            "Epoch 48/50\n",
            "116/116 [==============================] - 0s 2ms/step - loss: 0.1356 - accuracy: 0.9579\n",
            "Epoch 49/50\n",
            "116/116 [==============================] - 0s 2ms/step - loss: 0.1356 - accuracy: 0.9579\n",
            "Epoch 50/50\n",
            "116/116 [==============================] - 0s 3ms/step - loss: 0.1355 - accuracy: 0.9579\n"
          ]
        }
      ],
      "source": [
        "# Train the model\n",
        "fit_model = nn.fit(X_train_scaled, y_train, epochs=50, callbacks=[checkpoint_callback])"
      ]
    },
    {
      "cell_type": "code",
      "execution_count": 24,
      "metadata": {
        "colab": {
          "base_uri": "https://localhost:8080/"
        },
        "id": "nytgCkVsSBFz",
        "outputId": "a379adc7-c903-41b9-c36a-0b310425e697"
      },
      "outputs": [
        {
          "output_type": "stream",
          "name": "stdout",
          "text": [
            "39/39 - 0s - loss: 0.1529 - accuracy: 0.9560 - 221ms/epoch - 6ms/step\n",
            "Loss: 0.1529092937707901, Accuracy: 0.9560260772705078\n"
          ]
        }
      ],
      "source": [
        "# Evaluate the model using the test data\n",
        "model_loss, model_accuracy = nn.evaluate(X_test_scaled,y_test,verbose=2)\n",
        "print(f\"Loss: {model_loss}, Accuracy: {model_accuracy}\")"
      ]
    },
    {
      "cell_type": "code",
      "execution_count": null,
      "metadata": {
        "id": "_f1rVEV6SIuJ"
      },
      "outputs": [],
      "source": [
        "# # Export our model to HDF5 file\n",
        "# filepath = r\"keras_model_run0.h5\"\n",
        "# nn.save(filepath, save_format='h5')"
      ]
    },
    {
      "cell_type": "markdown",
      "metadata": {
        "id": "bxjzTC03SQxr"
      },
      "source": [
        "# Optimisation\n",
        "Method: Increasing the number of hidden layers and neurons"
      ]
    },
    {
      "cell_type": "code",
      "execution_count": 32,
      "metadata": {
        "colab": {
          "base_uri": "https://localhost:8080/"
        },
        "id": "UAOpqMQ9STwJ",
        "outputId": "7243c71a-3cd7-4879-c487-c44650b9ec92"
      },
      "outputs": [
        {
          "output_type": "stream",
          "name": "stdout",
          "text": [
            "Model: \"sequential_4\"\n",
            "_________________________________________________________________\n",
            " Layer (type)                Output Shape              Param #   \n",
            "=================================================================\n",
            " dense_15 (Dense)            (None, 4)                 88        \n",
            "                                                                 \n",
            " dense_16 (Dense)            (None, 6)                 30        \n",
            "                                                                 \n",
            " dense_17 (Dense)            (None, 8)                 56        \n",
            "                                                                 \n",
            " dense_18 (Dense)            (None, 1)                 9         \n",
            "                                                                 \n",
            "=================================================================\n",
            "Total params: 183 (732.00 Byte)\n",
            "Trainable params: 183 (732.00 Byte)\n",
            "Non-trainable params: 0 (0.00 Byte)\n",
            "_________________________________________________________________\n"
          ]
        }
      ],
      "source": [
        "# Define the model - deep neural net, i.e., the number of input features and hidden nodes for each layer.\n",
        "input_features_number = len(X_train[0])\n",
        "hidden_nodes_layer1 = 4\n",
        "hidden_nodes_layer2 = 6\n",
        "hidden_nodes_layer3 = 8\n",
        "\n",
        "nn = tf.keras.models.Sequential()\n",
        "\n",
        "# First hidden layer\n",
        "nn.add(tf.keras.layers.Dense(units=hidden_nodes_layer1, activation=\"relu\", input_dim = input_features_number))\n",
        "\n",
        "# Second hidden layer\n",
        "nn.add(tf.keras.layers.Dense(units=hidden_nodes_layer2, activation=\"relu\"))\n",
        "\n",
        "# Third hidden layer\n",
        "nn.add(tf.keras.layers.Dense(units=hidden_nodes_layer3, activation=\"sigmoid\"))\n",
        "\n",
        "# Output layer\n",
        "nn.add(tf.keras.layers.Dense(units=1, activation=\"sigmoid\"))\n",
        "\n",
        "# Check the structure of the model\n",
        "nn.summary()"
      ]
    },
    {
      "cell_type": "code",
      "execution_count": 33,
      "metadata": {
        "id": "hWiUAouESlQz"
      },
      "outputs": [],
      "source": [
        "# Compile the model\n",
        "nn.compile(loss=\"binary_crossentropy\", optimizer=\"adam\", metrics=[\"accuracy\"])"
      ]
    },
    {
      "cell_type": "code",
      "execution_count": 34,
      "metadata": {
        "id": "NbwwrnN5SnjX"
      },
      "outputs": [],
      "source": [
        "# Create a callback that saves the model's weights every five epochs\n",
        "checkpoint_callback = ModelCheckpoint(filepath='model_weights_{epoch:02d}.h5',\n",
        "                                      save_weights_only=True,\n",
        "                                      save_freq=5 * len(X_train))  # Save every 5 epochs"
      ]
    },
    {
      "cell_type": "code",
      "execution_count": 35,
      "metadata": {
        "colab": {
          "base_uri": "https://localhost:8080/"
        },
        "id": "feQ0QD7TStuV",
        "outputId": "f3b2679e-f2e6-456a-f8d7-8fd07b6ea478"
      },
      "outputs": [
        {
          "output_type": "stream",
          "name": "stdout",
          "text": [
            "Epoch 1/50\n",
            "116/116 [==============================] - 4s 12ms/step - loss: 0.3697 - accuracy: 0.9579\n",
            "Epoch 2/50\n",
            "116/116 [==============================] - 2s 15ms/step - loss: 0.2421 - accuracy: 0.9579\n",
            "Epoch 3/50\n",
            "116/116 [==============================] - 1s 8ms/step - loss: 0.1977 - accuracy: 0.9579\n",
            "Epoch 4/50\n",
            "116/116 [==============================] - 1s 6ms/step - loss: 0.1792 - accuracy: 0.9579\n",
            "Epoch 5/50\n",
            "116/116 [==============================] - 1s 8ms/step - loss: 0.1703 - accuracy: 0.9579\n",
            "Epoch 6/50\n",
            "116/116 [==============================] - 1s 8ms/step - loss: 0.1666 - accuracy: 0.9579\n",
            "Epoch 7/50\n",
            "116/116 [==============================] - 1s 6ms/step - loss: 0.1637 - accuracy: 0.9579\n",
            "Epoch 8/50\n",
            "116/116 [==============================] - 1s 6ms/step - loss: 0.1612 - accuracy: 0.9579\n",
            "Epoch 9/50\n",
            "116/116 [==============================] - 1s 6ms/step - loss: 0.1592 - accuracy: 0.9579\n",
            "Epoch 10/50\n",
            "116/116 [==============================] - 1s 5ms/step - loss: 0.1574 - accuracy: 0.9579\n",
            "Epoch 11/50\n",
            "116/116 [==============================] - 0s 3ms/step - loss: 0.1557 - accuracy: 0.9579\n",
            "Epoch 12/50\n",
            "116/116 [==============================] - 0s 2ms/step - loss: 0.1542 - accuracy: 0.9579\n",
            "Epoch 13/50\n",
            "116/116 [==============================] - 0s 3ms/step - loss: 0.1526 - accuracy: 0.9579\n",
            "Epoch 14/50\n",
            "116/116 [==============================] - 0s 3ms/step - loss: 0.1511 - accuracy: 0.9579\n",
            "Epoch 15/50\n",
            "116/116 [==============================] - 0s 3ms/step - loss: 0.1495 - accuracy: 0.9579\n",
            "Epoch 16/50\n",
            "116/116 [==============================] - 0s 2ms/step - loss: 0.1482 - accuracy: 0.9579\n",
            "Epoch 17/50\n",
            "116/116 [==============================] - 0s 3ms/step - loss: 0.1470 - accuracy: 0.9579\n",
            "Epoch 18/50\n",
            "116/116 [==============================] - 0s 3ms/step - loss: 0.1458 - accuracy: 0.9579\n",
            "Epoch 19/50\n",
            "116/116 [==============================] - 0s 3ms/step - loss: 0.1447 - accuracy: 0.9579\n",
            "Epoch 20/50\n",
            "116/116 [==============================] - 0s 3ms/step - loss: 0.1436 - accuracy: 0.9579\n",
            "Epoch 21/50\n",
            "116/116 [==============================] - 0s 3ms/step - loss: 0.1431 - accuracy: 0.9579\n",
            "Epoch 22/50\n",
            "116/116 [==============================] - 0s 2ms/step - loss: 0.1422 - accuracy: 0.9579\n",
            "Epoch 23/50\n",
            "116/116 [==============================] - 0s 3ms/step - loss: 0.1418 - accuracy: 0.9579\n",
            "Epoch 24/50\n",
            "116/116 [==============================] - 1s 5ms/step - loss: 0.1410 - accuracy: 0.9579\n",
            "Epoch 25/50\n",
            "116/116 [==============================] - 1s 4ms/step - loss: 0.1404 - accuracy: 0.9579\n",
            "Epoch 26/50\n",
            "116/116 [==============================] - 0s 4ms/step - loss: 0.1397 - accuracy: 0.9579\n",
            "Epoch 27/50\n",
            "116/116 [==============================] - 1s 5ms/step - loss: 0.1391 - accuracy: 0.9579\n",
            "Epoch 28/50\n",
            "116/116 [==============================] - 1s 5ms/step - loss: 0.1385 - accuracy: 0.9579\n",
            "Epoch 29/50\n",
            "116/116 [==============================] - 0s 3ms/step - loss: 0.1380 - accuracy: 0.9579\n",
            "Epoch 30/50\n",
            "116/116 [==============================] - 0s 2ms/step - loss: 0.1376 - accuracy: 0.9579\n",
            "Epoch 31/50\n",
            "116/116 [==============================] - 0s 2ms/step - loss: 0.1369 - accuracy: 0.9579\n",
            "Epoch 32/50\n",
            "116/116 [==============================] - 0s 2ms/step - loss: 0.1366 - accuracy: 0.9579\n",
            "Epoch 33/50\n",
            "116/116 [==============================] - 0s 2ms/step - loss: 0.1364 - accuracy: 0.9579\n",
            "Epoch 34/50\n",
            "116/116 [==============================] - 0s 3ms/step - loss: 0.1361 - accuracy: 0.9579\n",
            "Epoch 35/50\n",
            "116/116 [==============================] - 0s 3ms/step - loss: 0.1356 - accuracy: 0.9579\n",
            "Epoch 36/50\n",
            "116/116 [==============================] - 0s 3ms/step - loss: 0.1353 - accuracy: 0.9579\n",
            "Epoch 37/50\n",
            "116/116 [==============================] - 0s 3ms/step - loss: 0.1349 - accuracy: 0.9579\n",
            "Epoch 38/50\n",
            "116/116 [==============================] - 0s 3ms/step - loss: 0.1346 - accuracy: 0.9579\n",
            "Epoch 39/50\n",
            "116/116 [==============================] - 0s 3ms/step - loss: 0.1344 - accuracy: 0.9579\n",
            "Epoch 40/50\n",
            "116/116 [==============================] - 0s 2ms/step - loss: 0.1344 - accuracy: 0.9579\n",
            "Epoch 41/50\n",
            "116/116 [==============================] - 0s 2ms/step - loss: 0.1342 - accuracy: 0.9579\n",
            "Epoch 42/50\n",
            "116/116 [==============================] - 0s 3ms/step - loss: 0.1340 - accuracy: 0.9579\n",
            "Epoch 43/50\n",
            "116/116 [==============================] - 0s 3ms/step - loss: 0.1337 - accuracy: 0.9579\n",
            "Epoch 44/50\n",
            "116/116 [==============================] - 0s 3ms/step - loss: 0.1337 - accuracy: 0.9579\n",
            "Epoch 45/50\n",
            "116/116 [==============================] - 0s 3ms/step - loss: 0.1337 - accuracy: 0.9579\n",
            "Epoch 46/50\n",
            "116/116 [==============================] - 0s 3ms/step - loss: 0.1347 - accuracy: 0.9579\n",
            "Epoch 47/50\n",
            "116/116 [==============================] - 0s 3ms/step - loss: 0.1338 - accuracy: 0.9579\n",
            "Epoch 48/50\n",
            "116/116 [==============================] - 0s 3ms/step - loss: 0.1335 - accuracy: 0.9579\n",
            "Epoch 49/50\n",
            "116/116 [==============================] - 0s 2ms/step - loss: 0.1334 - accuracy: 0.9579\n",
            "Epoch 50/50\n",
            "116/116 [==============================] - 0s 3ms/step - loss: 0.1334 - accuracy: 0.9579\n"
          ]
        }
      ],
      "source": [
        "# Train the model\n",
        "fit_model = nn.fit(X_train_scaled, y_train, epochs=50, callbacks=[checkpoint_callback])"
      ]
    },
    {
      "cell_type": "code",
      "execution_count": 36,
      "metadata": {
        "colab": {
          "base_uri": "https://localhost:8080/"
        },
        "id": "l4Up1dDnTK9u",
        "outputId": "2ec4d348-351a-4dc8-ccce-1da8d1bfac91"
      },
      "outputs": [
        {
          "output_type": "stream",
          "name": "stdout",
          "text": [
            "39/39 - 0s - loss: 0.1598 - accuracy: 0.9560 - 197ms/epoch - 5ms/step\n",
            "Loss: 0.15981754660606384, Accuracy: 0.9560260772705078\n"
          ]
        }
      ],
      "source": [
        "# Evaluate the model using the test data\n",
        "model_loss, model_accuracy = nn.evaluate(X_test_scaled,y_test,verbose=2)\n",
        "print(f\"Loss: {model_loss}, Accuracy: {model_accuracy}\")"
      ]
    },
    {
      "cell_type": "code",
      "execution_count": null,
      "metadata": {
        "id": "PnIt1dAoTRGx"
      },
      "outputs": [],
      "source": [
        "# # Export our model to HDF5 file\n",
        "# filepath = r\"keras_model_run1.h5\"\n",
        "# nn.save(filepath, save_format='h5')"
      ]
    }
  ],
  "metadata": {
    "colab": {
      "provenance": [],
      "toc_visible": true
    },
    "kernelspec": {
      "display_name": "Python 3",
      "name": "python3"
    },
    "language_info": {
      "name": "python"
    }
  },
  "nbformat": 4,
  "nbformat_minor": 0
}